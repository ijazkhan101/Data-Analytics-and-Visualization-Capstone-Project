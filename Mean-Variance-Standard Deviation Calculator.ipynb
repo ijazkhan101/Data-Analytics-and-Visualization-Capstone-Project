{
 "cells": [],
 "metadata": {
  "kernelspec": {
   "display_name": "newenv",
   "language": "python",
   "name": "python3"
  },
  "language_info": {
   "codemirror_mode": {
    "name": "ipython",
    "version": 3
   },
   "file_extension": ".py",
   "mimetype": "text/x-python",
   "name": "python",
   "nbconvert_exporter": "python",
   "pygments_lexer": "ipython3",
   "version": "3.10.8"
  },
  "orig_nbformat": 4,
  "vscode": {
   "interpreter": {
    "hash": "ebdd64f3e742a0b56650c4d26456325a42512d8fd4dd6c2dab6bb8871b002499"
   }
  }
 },
 "nbformat": 4,
 "nbformat_minor": 2
}
