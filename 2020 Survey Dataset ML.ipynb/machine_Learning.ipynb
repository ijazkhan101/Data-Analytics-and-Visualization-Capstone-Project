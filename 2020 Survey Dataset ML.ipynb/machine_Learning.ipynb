{
 "cells": [
  {
   "cell_type": "code",
   "execution_count": 1,
   "metadata": {},
   "outputs": [],
   "source": [
    "import pandas as pd"
   ]
  },
  {
   "cell_type": "code",
   "execution_count": 3,
   "metadata": {},
   "outputs": [
    {
     "data": {
      "text/html": [
       "<div>\n",
       "<style scoped>\n",
       "    .dataframe tbody tr th:only-of-type {\n",
       "        vertical-align: middle;\n",
       "    }\n",
       "\n",
       "    .dataframe tbody tr th {\n",
       "        vertical-align: top;\n",
       "    }\n",
       "\n",
       "    .dataframe thead th {\n",
       "        text-align: right;\n",
       "    }\n",
       "</style>\n",
       "<table border=\"1\" class=\"dataframe\">\n",
       "  <thead>\n",
       "    <tr style=\"text-align: right;\">\n",
       "      <th></th>\n",
       "      <th>Respondent</th>\n",
       "      <th>MainBranch</th>\n",
       "      <th>Hobbyist</th>\n",
       "      <th>Age</th>\n",
       "      <th>Age1stCode</th>\n",
       "      <th>CompFreq</th>\n",
       "      <th>CompTotal</th>\n",
       "      <th>ConvertedComp</th>\n",
       "      <th>Country</th>\n",
       "      <th>CurrencyDesc</th>\n",
       "      <th>...</th>\n",
       "      <th>SurveyEase</th>\n",
       "      <th>SurveyLength</th>\n",
       "      <th>Trans</th>\n",
       "      <th>UndergradMajor</th>\n",
       "      <th>WebframeDesireNextYear</th>\n",
       "      <th>WebframeWorkedWith</th>\n",
       "      <th>WelcomeChange</th>\n",
       "      <th>WorkWeekHrs</th>\n",
       "      <th>YearsCode</th>\n",
       "      <th>YearsCodePro</th>\n",
       "    </tr>\n",
       "  </thead>\n",
       "  <tbody>\n",
       "    <tr>\n",
       "      <th>0</th>\n",
       "      <td>10</td>\n",
       "      <td>I am a developer by profession</td>\n",
       "      <td>Yes</td>\n",
       "      <td>22.0</td>\n",
       "      <td>14</td>\n",
       "      <td>Yearly</td>\n",
       "      <td>25000.0</td>\n",
       "      <td>32315.0</td>\n",
       "      <td>United Kingdom</td>\n",
       "      <td>Pound sterling</td>\n",
       "      <td>...</td>\n",
       "      <td>Easy</td>\n",
       "      <td>Appropriate in length</td>\n",
       "      <td>No</td>\n",
       "      <td>Mathematics or statistics</td>\n",
       "      <td>Flask;jQuery</td>\n",
       "      <td>Flask;jQuery</td>\n",
       "      <td>Somewhat more welcome now than last year</td>\n",
       "      <td>36.0</td>\n",
       "      <td>8</td>\n",
       "      <td>4</td>\n",
       "    </tr>\n",
       "    <tr>\n",
       "      <th>1</th>\n",
       "      <td>33</td>\n",
       "      <td>I am a developer by profession</td>\n",
       "      <td>Yes</td>\n",
       "      <td>39.0</td>\n",
       "      <td>14</td>\n",
       "      <td>Monthly</td>\n",
       "      <td>4900.0</td>\n",
       "      <td>63564.0</td>\n",
       "      <td>Belgium</td>\n",
       "      <td>European Euro</td>\n",
       "      <td>...</td>\n",
       "      <td>Neither easy nor difficult</td>\n",
       "      <td>Appropriate in length</td>\n",
       "      <td>No</td>\n",
       "      <td>Computer science, computer engineering, or sof...</td>\n",
       "      <td>Express;Gatsby;React.js;Ruby on Rails</td>\n",
       "      <td>Angular;Angular.js;Django;Express;React.js</td>\n",
       "      <td>Just as welcome now as I felt last year</td>\n",
       "      <td>40.0</td>\n",
       "      <td>20</td>\n",
       "      <td>14</td>\n",
       "    </tr>\n",
       "    <tr>\n",
       "      <th>2</th>\n",
       "      <td>42</td>\n",
       "      <td>I am a developer by profession</td>\n",
       "      <td>No</td>\n",
       "      <td>32.0</td>\n",
       "      <td>14</td>\n",
       "      <td>Yearly</td>\n",
       "      <td>130000.0</td>\n",
       "      <td>130000.0</td>\n",
       "      <td>United States</td>\n",
       "      <td>United States dollar</td>\n",
       "      <td>...</td>\n",
       "      <td>Easy</td>\n",
       "      <td>Appropriate in length</td>\n",
       "      <td>No</td>\n",
       "      <td>Computer science, computer engineering, or sof...</td>\n",
       "      <td>ASP.NET Core;Spring</td>\n",
       "      <td>ASP.NET;Flask;React.js;Spring</td>\n",
       "      <td>Somewhat less welcome now than last year</td>\n",
       "      <td>37.0</td>\n",
       "      <td>16</td>\n",
       "      <td>10</td>\n",
       "    </tr>\n",
       "  </tbody>\n",
       "</table>\n",
       "<p>3 rows × 61 columns</p>\n",
       "</div>"
      ],
      "text/plain": [
       "   Respondent                      MainBranch Hobbyist   Age Age1stCode  \\\n",
       "0          10  I am a developer by profession      Yes  22.0         14   \n",
       "1          33  I am a developer by profession      Yes  39.0         14   \n",
       "2          42  I am a developer by profession       No  32.0         14   \n",
       "\n",
       "  CompFreq  CompTotal  ConvertedComp         Country          CurrencyDesc  \\\n",
       "0   Yearly    25000.0        32315.0  United Kingdom        Pound sterling   \n",
       "1  Monthly     4900.0        63564.0         Belgium         European Euro   \n",
       "2   Yearly   130000.0       130000.0   United States  United States dollar   \n",
       "\n",
       "   ...                  SurveyEase           SurveyLength Trans  \\\n",
       "0  ...                        Easy  Appropriate in length    No   \n",
       "1  ...  Neither easy nor difficult  Appropriate in length    No   \n",
       "2  ...                        Easy  Appropriate in length    No   \n",
       "\n",
       "                                      UndergradMajor  \\\n",
       "0                          Mathematics or statistics   \n",
       "1  Computer science, computer engineering, or sof...   \n",
       "2  Computer science, computer engineering, or sof...   \n",
       "\n",
       "                  WebframeDesireNextYear  \\\n",
       "0                           Flask;jQuery   \n",
       "1  Express;Gatsby;React.js;Ruby on Rails   \n",
       "2                    ASP.NET Core;Spring   \n",
       "\n",
       "                           WebframeWorkedWith  \\\n",
       "0                                Flask;jQuery   \n",
       "1  Angular;Angular.js;Django;Express;React.js   \n",
       "2               ASP.NET;Flask;React.js;Spring   \n",
       "\n",
       "                              WelcomeChange WorkWeekHrs YearsCode YearsCodePro  \n",
       "0  Somewhat more welcome now than last year        36.0         8            4  \n",
       "1   Just as welcome now as I felt last year        40.0        20           14  \n",
       "2  Somewhat less welcome now than last year        37.0        16           10  \n",
       "\n",
       "[3 rows x 61 columns]"
      ]
     },
     "execution_count": 3,
     "metadata": {},
     "output_type": "execute_result"
    }
   ],
   "source": [
    "# read from CSV\n",
    "df=pd.read_csv(\"cleanData_survey_results_public_2020.csv\")\n",
    "df.head(3)"
   ]
  },
  {
   "cell_type": "code",
   "execution_count": 4,
   "metadata": {},
   "outputs": [
    {
     "data": {
      "text/plain": [
       "(4213, 61)"
      ]
     },
     "execution_count": 4,
     "metadata": {},
     "output_type": "execute_result"
    }
   ],
   "source": [
    "df.shape"
   ]
  },
  {
   "cell_type": "code",
   "execution_count": 5,
   "metadata": {},
   "outputs": [
    {
     "data": {
      "text/plain": [
       "Index(['Respondent', 'MainBranch', 'Hobbyist', 'Age', 'Age1stCode', 'CompFreq',\n",
       "       'CompTotal', 'ConvertedComp', 'Country', 'CurrencyDesc',\n",
       "       'CurrencySymbol', 'DatabaseDesireNextYear', 'DatabaseWorkedWith',\n",
       "       'DevType', 'EdLevel', 'Employment', 'Ethnicity', 'Gender', 'JobFactors',\n",
       "       'JobSat', 'JobSeek', 'LanguageDesireNextYear', 'LanguageWorkedWith',\n",
       "       'MiscTechDesireNextYear', 'MiscTechWorkedWith',\n",
       "       'NEWCollabToolsDesireNextYear', 'NEWCollabToolsWorkedWith', 'NEWDevOps',\n",
       "       'NEWDevOpsImpt', 'NEWEdImpt', 'NEWJobHunt', 'NEWJobHuntResearch',\n",
       "       'NEWLearn', 'NEWOffTopic', 'NEWOnboardGood', 'NEWOtherComms',\n",
       "       'NEWOvertime', 'NEWPurchaseResearch', 'NEWPurpleLink', 'NEWSOSites',\n",
       "       'NEWStuck', 'OpSys', 'OrgSize', 'PlatformDesireNextYear',\n",
       "       'PlatformWorkedWith', 'PurchaseWhat', 'Sexuality', 'SOAccount',\n",
       "       'SOComm', 'SOPartFreq', 'SOVisitFreq', 'SurveyEase', 'SurveyLength',\n",
       "       'Trans', 'UndergradMajor', 'WebframeDesireNextYear',\n",
       "       'WebframeWorkedWith', 'WelcomeChange', 'WorkWeekHrs', 'YearsCode',\n",
       "       'YearsCodePro'],\n",
       "      dtype='object')"
      ]
     },
     "execution_count": 5,
     "metadata": {},
     "output_type": "execute_result"
    }
   ],
   "source": [
    "df.columns"
   ]
  },
  {
   "cell_type": "code",
   "execution_count": 6,
   "metadata": {},
   "outputs": [
    {
     "name": "stdout",
     "output_type": "stream",
     "text": [
      "<class 'pandas.core.frame.DataFrame'>\n",
      "RangeIndex: 4213 entries, 0 to 4212\n",
      "Data columns (total 61 columns):\n",
      " #   Column                        Non-Null Count  Dtype  \n",
      "---  ------                        --------------  -----  \n",
      " 0   Respondent                    4213 non-null   int64  \n",
      " 1   MainBranch                    4213 non-null   object \n",
      " 2   Hobbyist                      4213 non-null   object \n",
      " 3   Age                           4213 non-null   float64\n",
      " 4   Age1stCode                    4213 non-null   object \n",
      " 5   CompFreq                      4213 non-null   object \n",
      " 6   CompTotal                     4213 non-null   float64\n",
      " 7   ConvertedComp                 4213 non-null   float64\n",
      " 8   Country                       4213 non-null   object \n",
      " 9   CurrencyDesc                  4213 non-null   object \n",
      " 10  CurrencySymbol                4213 non-null   object \n",
      " 11  DatabaseDesireNextYear        4213 non-null   object \n",
      " 12  DatabaseWorkedWith            4213 non-null   object \n",
      " 13  DevType                       4213 non-null   object \n",
      " 14  EdLevel                       4213 non-null   object \n",
      " 15  Employment                    4213 non-null   object \n",
      " 16  Ethnicity                     4213 non-null   object \n",
      " 17  Gender                        4213 non-null   object \n",
      " 18  JobFactors                    4213 non-null   object \n",
      " 19  JobSat                        4213 non-null   object \n",
      " 20  JobSeek                       4213 non-null   object \n",
      " 21  LanguageDesireNextYear        4213 non-null   object \n",
      " 22  LanguageWorkedWith            4213 non-null   object \n",
      " 23  MiscTechDesireNextYear        4213 non-null   object \n",
      " 24  MiscTechWorkedWith            4213 non-null   object \n",
      " 25  NEWCollabToolsDesireNextYear  4213 non-null   object \n",
      " 26  NEWCollabToolsWorkedWith      4213 non-null   object \n",
      " 27  NEWDevOps                     4213 non-null   object \n",
      " 28  NEWDevOpsImpt                 4213 non-null   object \n",
      " 29  NEWEdImpt                     4213 non-null   object \n",
      " 30  NEWJobHunt                    4213 non-null   object \n",
      " 31  NEWJobHuntResearch            4213 non-null   object \n",
      " 32  NEWLearn                      4213 non-null   object \n",
      " 33  NEWOffTopic                   4213 non-null   object \n",
      " 34  NEWOnboardGood                4213 non-null   object \n",
      " 35  NEWOtherComms                 4213 non-null   object \n",
      " 36  NEWOvertime                   4213 non-null   object \n",
      " 37  NEWPurchaseResearch           4213 non-null   object \n",
      " 38  NEWPurpleLink                 4213 non-null   object \n",
      " 39  NEWSOSites                    4213 non-null   object \n",
      " 40  NEWStuck                      4213 non-null   object \n",
      " 41  OpSys                         4213 non-null   object \n",
      " 42  OrgSize                       4213 non-null   object \n",
      " 43  PlatformDesireNextYear        4213 non-null   object \n",
      " 44  PlatformWorkedWith            4213 non-null   object \n",
      " 45  PurchaseWhat                  4213 non-null   object \n",
      " 46  Sexuality                     4213 non-null   object \n",
      " 47  SOAccount                     4213 non-null   object \n",
      " 48  SOComm                        4213 non-null   object \n",
      " 49  SOPartFreq                    4213 non-null   object \n",
      " 50  SOVisitFreq                   4213 non-null   object \n",
      " 51  SurveyEase                    4213 non-null   object \n",
      " 52  SurveyLength                  4213 non-null   object \n",
      " 53  Trans                         4213 non-null   object \n",
      " 54  UndergradMajor                4213 non-null   object \n",
      " 55  WebframeDesireNextYear        4213 non-null   object \n",
      " 56  WebframeWorkedWith            4213 non-null   object \n",
      " 57  WelcomeChange                 4213 non-null   object \n",
      " 58  WorkWeekHrs                   4213 non-null   float64\n",
      " 59  YearsCode                     4213 non-null   object \n",
      " 60  YearsCodePro                  4213 non-null   object \n",
      "dtypes: float64(4), int64(1), object(56)\n",
      "memory usage: 2.0+ MB\n"
     ]
    }
   ],
   "source": [
    "df.info()"
   ]
  },
  {
   "cell_type": "code",
   "execution_count": 7,
   "metadata": {},
   "outputs": [
    {
     "data": {
      "text/html": [
       "<div>\n",
       "<style scoped>\n",
       "    .dataframe tbody tr th:only-of-type {\n",
       "        vertical-align: middle;\n",
       "    }\n",
       "\n",
       "    .dataframe tbody tr th {\n",
       "        vertical-align: top;\n",
       "    }\n",
       "\n",
       "    .dataframe thead th {\n",
       "        text-align: right;\n",
       "    }\n",
       "</style>\n",
       "<table border=\"1\" class=\"dataframe\">\n",
       "  <thead>\n",
       "    <tr style=\"text-align: right;\">\n",
       "      <th></th>\n",
       "      <th>Respondent</th>\n",
       "      <th>Age</th>\n",
       "      <th>CompTotal</th>\n",
       "      <th>ConvertedComp</th>\n",
       "      <th>WorkWeekHrs</th>\n",
       "    </tr>\n",
       "  </thead>\n",
       "  <tbody>\n",
       "    <tr>\n",
       "      <th>count</th>\n",
       "      <td>4213.000000</td>\n",
       "      <td>4213.000000</td>\n",
       "      <td>4.213000e+03</td>\n",
       "      <td>4.213000e+03</td>\n",
       "      <td>4213.000000</td>\n",
       "    </tr>\n",
       "    <tr>\n",
       "      <th>mean</th>\n",
       "      <td>27533.329694</td>\n",
       "      <td>32.072158</td>\n",
       "      <td>2.740265e+06</td>\n",
       "      <td>1.116038e+05</td>\n",
       "      <td>41.265523</td>\n",
       "    </tr>\n",
       "    <tr>\n",
       "      <th>std</th>\n",
       "      <td>18439.176546</td>\n",
       "      <td>7.482935</td>\n",
       "      <td>4.297804e+07</td>\n",
       "      <td>2.459682e+05</td>\n",
       "      <td>15.344240</td>\n",
       "    </tr>\n",
       "    <tr>\n",
       "      <th>min</th>\n",
       "      <td>10.000000</td>\n",
       "      <td>17.000000</td>\n",
       "      <td>0.000000e+00</td>\n",
       "      <td>0.000000e+00</td>\n",
       "      <td>2.000000</td>\n",
       "    </tr>\n",
       "    <tr>\n",
       "      <th>25%</th>\n",
       "      <td>12200.000000</td>\n",
       "      <td>26.000000</td>\n",
       "      <td>3.000000e+04</td>\n",
       "      <td>3.037200e+04</td>\n",
       "      <td>40.000000</td>\n",
       "    </tr>\n",
       "    <tr>\n",
       "      <th>50%</th>\n",
       "      <td>24863.000000</td>\n",
       "      <td>31.000000</td>\n",
       "      <td>7.200000e+04</td>\n",
       "      <td>6.050500e+04</td>\n",
       "      <td>40.000000</td>\n",
       "    </tr>\n",
       "    <tr>\n",
       "      <th>75%</th>\n",
       "      <td>46016.000000</td>\n",
       "      <td>36.000000</td>\n",
       "      <td>1.300000e+05</td>\n",
       "      <td>1.000000e+05</td>\n",
       "      <td>45.000000</td>\n",
       "    </tr>\n",
       "    <tr>\n",
       "      <th>max</th>\n",
       "      <td>64938.000000</td>\n",
       "      <td>70.000000</td>\n",
       "      <td>1.900000e+09</td>\n",
       "      <td>2.000000e+06</td>\n",
       "      <td>425.000000</td>\n",
       "    </tr>\n",
       "  </tbody>\n",
       "</table>\n",
       "</div>"
      ],
      "text/plain": [
       "         Respondent          Age     CompTotal  ConvertedComp  WorkWeekHrs\n",
       "count   4213.000000  4213.000000  4.213000e+03   4.213000e+03  4213.000000\n",
       "mean   27533.329694    32.072158  2.740265e+06   1.116038e+05    41.265523\n",
       "std    18439.176546     7.482935  4.297804e+07   2.459682e+05    15.344240\n",
       "min       10.000000    17.000000  0.000000e+00   0.000000e+00     2.000000\n",
       "25%    12200.000000    26.000000  3.000000e+04   3.037200e+04    40.000000\n",
       "50%    24863.000000    31.000000  7.200000e+04   6.050500e+04    40.000000\n",
       "75%    46016.000000    36.000000  1.300000e+05   1.000000e+05    45.000000\n",
       "max    64938.000000    70.000000  1.900000e+09   2.000000e+06   425.000000"
      ]
     },
     "execution_count": 7,
     "metadata": {},
     "output_type": "execute_result"
    }
   ],
   "source": [
    "df.describe()"
   ]
  },
  {
   "cell_type": "code",
   "execution_count": 8,
   "metadata": {},
   "outputs": [
    {
     "data": {
      "text/plain": [
       "Respondent            0\n",
       "MainBranch            0\n",
       "Hobbyist              0\n",
       "Age                   0\n",
       "Age1stCode            0\n",
       "                     ..\n",
       "WebframeWorkedWith    0\n",
       "WelcomeChange         0\n",
       "WorkWeekHrs           0\n",
       "YearsCode             0\n",
       "YearsCodePro          0\n",
       "Length: 61, dtype: int64"
      ]
     },
     "execution_count": 8,
     "metadata": {},
     "output_type": "execute_result"
    }
   ],
   "source": [
    "df.isnull().sum()"
   ]
  },
  {
   "cell_type": "code",
   "execution_count": 9,
   "metadata": {},
   "outputs": [
    {
     "data": {
      "text/plain": [
       "0"
      ]
     },
     "execution_count": 9,
     "metadata": {},
     "output_type": "execute_result"
    }
   ],
   "source": [
    "df.duplicated().sum()"
   ]
  },
  {
   "cell_type": "code",
   "execution_count": 10,
   "metadata": {},
   "outputs": [
    {
     "data": {
      "text/plain": [
       "Index(['Respondent', 'MainBranch', 'Hobbyist', 'Age', 'Age1stCode', 'CompFreq',\n",
       "       'CompTotal', 'ConvertedComp', 'Country', 'CurrencyDesc',\n",
       "       'CurrencySymbol', 'DatabaseDesireNextYear', 'DatabaseWorkedWith',\n",
       "       'DevType', 'EdLevel', 'Employment', 'Ethnicity', 'Gender', 'JobFactors',\n",
       "       'JobSat', 'JobSeek', 'LanguageDesireNextYear', 'LanguageWorkedWith',\n",
       "       'MiscTechDesireNextYear', 'MiscTechWorkedWith',\n",
       "       'NEWCollabToolsDesireNextYear', 'NEWCollabToolsWorkedWith', 'NEWDevOps',\n",
       "       'NEWDevOpsImpt', 'NEWEdImpt', 'NEWJobHunt', 'NEWJobHuntResearch',\n",
       "       'NEWLearn', 'NEWOffTopic', 'NEWOnboardGood', 'NEWOtherComms',\n",
       "       'NEWOvertime', 'NEWPurchaseResearch', 'NEWPurpleLink', 'NEWSOSites',\n",
       "       'NEWStuck', 'OpSys', 'OrgSize', 'PlatformDesireNextYear',\n",
       "       'PlatformWorkedWith', 'PurchaseWhat', 'Sexuality', 'SOAccount',\n",
       "       'SOComm', 'SOPartFreq', 'SOVisitFreq', 'SurveyEase', 'SurveyLength',\n",
       "       'Trans', 'UndergradMajor', 'WebframeDesireNextYear',\n",
       "       'WebframeWorkedWith', 'WelcomeChange', 'WorkWeekHrs', 'YearsCode',\n",
       "       'YearsCodePro'],\n",
       "      dtype='object')"
      ]
     },
     "execution_count": 10,
     "metadata": {},
     "output_type": "execute_result"
    }
   ],
   "source": [
    "df.columns"
   ]
  },
  {
   "cell_type": "code",
   "execution_count": 14,
   "metadata": {},
   "outputs": [
    {
     "data": {
      "text/plain": [
       "Just as welcome now as I felt last year                    3167\n",
       "Somewhat more welcome now than last year                    391\n",
       "Somewhat less welcome now than last year                    273\n",
       "A lot more welcome now than last year                       188\n",
       "A lot less welcome now than last year                       148\n",
       "Not applicable - I did not use Stack Overflow last year      46\n",
       "Name: WelcomeChange, dtype: int64"
      ]
     },
     "execution_count": 14,
     "metadata": {},
     "output_type": "execute_result"
    }
   ],
   "source": [
    "# How many want to change\n",
    "df[\"WelcomeChange\"].value_counts()"
   ]
  },
  {
   "cell_type": "code",
   "execution_count": 13,
   "metadata": {},
   "outputs": [
    {
     "data": {
      "text/plain": [
       "I’m not actively looking, but I am open to new opportunities    2617\n",
       "I am not interested in new job opportunities                    1119\n",
       "I am actively looking for a job                                  477\n",
       "Name: JobSeek, dtype: int64"
      ]
     },
     "execution_count": 13,
     "metadata": {},
     "output_type": "execute_result"
    }
   ],
   "source": [
    "# find jobseek employe\n",
    "df[\"JobSeek\"].value_counts()"
   ]
  },
  {
   "cell_type": "code",
   "execution_count": 12,
   "metadata": {},
   "outputs": [
    {
     "data": {
      "text/plain": [
       "10                    360\n",
       "20                    277\n",
       "15                    262\n",
       "12                    236\n",
       "8                     229\n",
       "7                     222\n",
       "6                     215\n",
       "9                     188\n",
       "5                     170\n",
       "13                    166\n",
       "11                    165\n",
       "16                    155\n",
       "14                    141\n",
       "25                    140\n",
       "18                    126\n",
       "4                     114\n",
       "30                    109\n",
       "22                    105\n",
       "17                    101\n",
       "19                     83\n",
       "23                     65\n",
       "21                     53\n",
       "3                      52\n",
       "35                     46\n",
       "24                     43\n",
       "27                     41\n",
       "26                     40\n",
       "28                     33\n",
       "32                     32\n",
       "37                     29\n",
       "40                     28\n",
       "29                     25\n",
       "33                     23\n",
       "34                     23\n",
       "2                      21\n",
       "38                     18\n",
       "31                     17\n",
       "36                     17\n",
       "39                     11\n",
       "1                       8\n",
       "43                      6\n",
       "44                      5\n",
       "41                      5\n",
       "42                      3\n",
       "Less than 1 year        2\n",
       "More than 50 years      1\n",
       "50                      1\n",
       "45                      1\n",
       "Name: YearsCode, dtype: int64"
      ]
     },
     "execution_count": 12,
     "metadata": {},
     "output_type": "execute_result"
    }
   ],
   "source": [
    "# find year of code experince and their number\n",
    "df[\"YearsCode\"].value_counts()"
   ]
  }
 ],
 "metadata": {
  "kernelspec": {
   "display_name": "newenv",
   "language": "python",
   "name": "python3"
  },
  "language_info": {
   "codemirror_mode": {
    "name": "ipython",
    "version": 3
   },
   "file_extension": ".py",
   "mimetype": "text/x-python",
   "name": "python",
   "nbconvert_exporter": "python",
   "pygments_lexer": "ipython3",
   "version": "3.10.8"
  },
  "orig_nbformat": 4,
  "vscode": {
   "interpreter": {
    "hash": "ebdd64f3e742a0b56650c4d26456325a42512d8fd4dd6c2dab6bb8871b002499"
   }
  }
 },
 "nbformat": 4,
 "nbformat_minor": 2
}
